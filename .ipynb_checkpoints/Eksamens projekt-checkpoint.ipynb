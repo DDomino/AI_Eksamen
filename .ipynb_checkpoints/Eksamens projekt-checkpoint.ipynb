{
 "cells": [
  {
   "cell_type": "markdown",
   "metadata": {},
   "source": [
    "## Needed Imports"
   ]
  },
  {
   "cell_type": "code",
   "execution_count": 1,
   "metadata": {},
   "outputs": [],
   "source": [
    "import pandas as pd \n",
    "import numpy as np\n",
    "import matplotlib.pyplot as plt\n",
    "import seaborn as sns\n",
    "from sklearn import model_selection\n",
    "from sklearn import linear_model, preprocessing\n",
    "from sklearn import metrics as sm\n",
    "\n",
    "from sklearn.feature_extraction.text import CountVectorizer\n",
    "from sklearn.feature_extraction.text import TfidfVectorizer\n",
    "from sklearn.feature_extraction.text import TfidfTransformer\n",
    "\n",
    "from sklearn.tree import DecisionTreeClassifier\n",
    "\n",
    "from sklearn.ensemble import RandomForestClassifier\n",
    "from sklearn.metrics import accuracy_score\n",
    "from sklearn.metrics import classification_report\n",
    "from sklearn.metrics import confusion_matrix\n",
    "\n",
    "from sklearn.naive_bayes import MultinomialNB\n",
    "from sklearn.pipeline import make_pipeline\n",
    "\n",
    "import warnings\n"
   ]
  },
  {
   "cell_type": "code",
   "execution_count": 2,
   "metadata": {},
   "outputs": [],
   "source": [
    "warnings.filterwarnings('ignore') "
   ]
  },
  {
   "cell_type": "markdown",
   "metadata": {},
   "source": [
    "## Data preperation"
   ]
  },
  {
   "cell_type": "code",
   "execution_count": 3,
   "metadata": {},
   "outputs": [],
   "source": [
    "lines = []\n",
    "with open('data/video_games.csv', 'r') as input:\n",
    "    lines = input.readlines()\n",
    "\n",
    "conversion = '\"'\n",
    "newtext = ''\n",
    "outputLines = []\n",
    "for line in lines:\n",
    "    temp = line[:]\n",
    "    for c in conversion:\n",
    "        temp = temp.replace(c, newtext)\n",
    "    outputLines.append(temp)\n",
    "\n",
    "with open('data/video_games_reparied.csv', 'w') as output:\n",
    "    for line in outputLines:\n",
    "        output.write(line)"
   ]
  },
  {
   "cell_type": "code",
   "execution_count": 4,
   "metadata": {},
   "outputs": [],
   "source": [
    "df = pd.read_csv('data/video_games_reparied.csv', index_col=False, encoding='iso-8859-1', nrows=1000,\n",
    "                        warn_bad_lines=False, error_bad_lines=False)"
   ]
  },
  {
   "cell_type": "code",
   "execution_count": 5,
   "metadata": {},
   "outputs": [],
   "source": [
    "def group_review_score():\n",
    "    df['Metrics.Review Group'] = ''\n",
    "    df.loc[df['Metrics.Review Score'] <= 25, 'Metrics.Review Group'] = 1\n",
    "    df.loc[(df['Metrics.Review Score'] >= 26) & (df['Metrics.Review Score'] <=50), 'Metrics.Review Group'] = 2\n",
    "    df.loc[(df['Metrics.Review Score'] >= 51) & (df['Metrics.Review Score'] <=75), 'Metrics.Review Group'] = 3\n",
    "    df.loc[(df['Metrics.Review Score'] >= 76) & (df['Metrics.Review Score'] <=100), 'Metrics.Review Group'] = 4"
   ]
  },
  {
   "cell_type": "code",
   "execution_count": 6,
   "metadata": {},
   "outputs": [],
   "source": [
    "# We had 167 nan values on the puplisher column, we will replace those with \"Unknown\" publishers. \n",
    "df['Metadata.Publishers'].fillna('Unkown', inplace = True)\n",
    "# For prettier numbers, we'll turn the Sales from \"in millions\" to \"in thousands\".\n",
    "df['Metrics.Sales']= df['Metrics.Sales']*1000\n",
    "\n",
    "# Group the review scores into 4 classes for later confusion matrix\n",
    "group_review_score()\n"
   ]
  },
  {
   "cell_type": "code",
   "execution_count": 7,
   "metadata": {},
   "outputs": [
    {
     "data": {
      "text/html": [
       "<div>\n",
       "<style scoped>\n",
       "    .dataframe tbody tr th:only-of-type {\n",
       "        vertical-align: middle;\n",
       "    }\n",
       "\n",
       "    .dataframe tbody tr th {\n",
       "        vertical-align: top;\n",
       "    }\n",
       "\n",
       "    .dataframe thead th {\n",
       "        text-align: right;\n",
       "    }\n",
       "</style>\n",
       "<table border=\"1\" class=\"dataframe\">\n",
       "  <thead>\n",
       "    <tr style=\"text-align: right;\">\n",
       "      <th></th>\n",
       "      <th>Title</th>\n",
       "      <th>Features.Handheld</th>\n",
       "      <th>Features.Max Players</th>\n",
       "      <th>Features.Multiplatform</th>\n",
       "      <th>Features.Online</th>\n",
       "      <th>Metadata.Genres</th>\n",
       "      <th>Metadata.Licensed</th>\n",
       "      <th>Metadata.Publishers</th>\n",
       "      <th>Metadata.Sequel</th>\n",
       "      <th>Metrics.Review Score</th>\n",
       "      <th>...</th>\n",
       "      <th>Length.Main + Extras.Leisure</th>\n",
       "      <th>Length.Main + Extras.Median</th>\n",
       "      <th>Length.Main + Extras.Polled</th>\n",
       "      <th>Length.Main + Extras.Rushed</th>\n",
       "      <th>Length.Main Story.Average</th>\n",
       "      <th>Length.Main Story.Leisure</th>\n",
       "      <th>Length.Main Story.Median</th>\n",
       "      <th>Length.Main Story.Polled</th>\n",
       "      <th>Length.Main Story.Rushed</th>\n",
       "      <th>Metrics.Review Group</th>\n",
       "    </tr>\n",
       "  </thead>\n",
       "  <tbody>\n",
       "    <tr>\n",
       "      <th>0</th>\n",
       "      <td>Super Mario 64 DS</td>\n",
       "      <td>True</td>\n",
       "      <td>1</td>\n",
       "      <td>True</td>\n",
       "      <td>True</td>\n",
       "      <td>Action</td>\n",
       "      <td>True</td>\n",
       "      <td>Nintendo</td>\n",
       "      <td>True</td>\n",
       "      <td>85</td>\n",
       "      <td>...</td>\n",
       "      <td>29.966667</td>\n",
       "      <td>25.00</td>\n",
       "      <td>16</td>\n",
       "      <td>18.333333</td>\n",
       "      <td>14.333333</td>\n",
       "      <td>18.316667</td>\n",
       "      <td>14.5</td>\n",
       "      <td>21</td>\n",
       "      <td>9.700000</td>\n",
       "      <td>4</td>\n",
       "    </tr>\n",
       "    <tr>\n",
       "      <th>1</th>\n",
       "      <td>Lumines: Puzzle Fusion</td>\n",
       "      <td>True</td>\n",
       "      <td>1</td>\n",
       "      <td>True</td>\n",
       "      <td>True</td>\n",
       "      <td>Strategy</td>\n",
       "      <td>True</td>\n",
       "      <td>Ubisoft</td>\n",
       "      <td>True</td>\n",
       "      <td>89</td>\n",
       "      <td>...</td>\n",
       "      <td>9.866667</td>\n",
       "      <td>9.75</td>\n",
       "      <td>2</td>\n",
       "      <td>9.616667</td>\n",
       "      <td>10.333333</td>\n",
       "      <td>11.083333</td>\n",
       "      <td>10.0</td>\n",
       "      <td>3</td>\n",
       "      <td>9.583333</td>\n",
       "      <td>4</td>\n",
       "    </tr>\n",
       "    <tr>\n",
       "      <th>2</th>\n",
       "      <td>Hot Shots Golf: Open Tee</td>\n",
       "      <td>True</td>\n",
       "      <td>1</td>\n",
       "      <td>True</td>\n",
       "      <td>True</td>\n",
       "      <td>Sports</td>\n",
       "      <td>True</td>\n",
       "      <td>Sony</td>\n",
       "      <td>True</td>\n",
       "      <td>81</td>\n",
       "      <td>...</td>\n",
       "      <td>0.000000</td>\n",
       "      <td>0.00</td>\n",
       "      <td>0</td>\n",
       "      <td>0.000000</td>\n",
       "      <td>0.000000</td>\n",
       "      <td>0.000000</td>\n",
       "      <td>0.0</td>\n",
       "      <td>0</td>\n",
       "      <td>0.000000</td>\n",
       "      <td>4</td>\n",
       "    </tr>\n",
       "    <tr>\n",
       "      <th>3</th>\n",
       "      <td>Spider-Man 2</td>\n",
       "      <td>True</td>\n",
       "      <td>1</td>\n",
       "      <td>True</td>\n",
       "      <td>True</td>\n",
       "      <td>Action</td>\n",
       "      <td>True</td>\n",
       "      <td>Activision</td>\n",
       "      <td>True</td>\n",
       "      <td>61</td>\n",
       "      <td>...</td>\n",
       "      <td>17.316667</td>\n",
       "      <td>12.50</td>\n",
       "      <td>12</td>\n",
       "      <td>10.483333</td>\n",
       "      <td>8.350000</td>\n",
       "      <td>11.083333</td>\n",
       "      <td>8.0</td>\n",
       "      <td>23</td>\n",
       "      <td>5.333333</td>\n",
       "      <td>3</td>\n",
       "    </tr>\n",
       "    <tr>\n",
       "      <th>4</th>\n",
       "      <td>The Urbz: Sims in the City</td>\n",
       "      <td>True</td>\n",
       "      <td>1</td>\n",
       "      <td>True</td>\n",
       "      <td>True</td>\n",
       "      <td>Simulation</td>\n",
       "      <td>True</td>\n",
       "      <td>EA</td>\n",
       "      <td>True</td>\n",
       "      <td>67</td>\n",
       "      <td>...</td>\n",
       "      <td>25.200000</td>\n",
       "      <td>20.00</td>\n",
       "      <td>3</td>\n",
       "      <td>16.450000</td>\n",
       "      <td>15.500000</td>\n",
       "      <td>15.750000</td>\n",
       "      <td>15.5</td>\n",
       "      <td>2</td>\n",
       "      <td>15.250000</td>\n",
       "      <td>3</td>\n",
       "    </tr>\n",
       "  </tbody>\n",
       "</table>\n",
       "<p>5 rows × 37 columns</p>\n",
       "</div>"
      ],
      "text/plain": [
       "                        Title  Features.Handheld  Features.Max Players  \\\n",
       "0           Super Mario 64 DS               True                     1   \n",
       "1      Lumines: Puzzle Fusion               True                     1   \n",
       "2    Hot Shots Golf: Open Tee               True                     1   \n",
       "3                Spider-Man 2               True                     1   \n",
       "4  The Urbz: Sims in the City               True                     1   \n",
       "\n",
       "   Features.Multiplatform  Features.Online Metadata.Genres  Metadata.Licensed  \\\n",
       "0                    True             True          Action               True   \n",
       "1                    True             True        Strategy               True   \n",
       "2                    True             True          Sports               True   \n",
       "3                    True             True          Action               True   \n",
       "4                    True             True      Simulation               True   \n",
       "\n",
       "  Metadata.Publishers  Metadata.Sequel  Metrics.Review Score  ...  \\\n",
       "0            Nintendo             True                    85  ...   \n",
       "1             Ubisoft             True                    89  ...   \n",
       "2                Sony             True                    81  ...   \n",
       "3          Activision             True                    61  ...   \n",
       "4                  EA             True                    67  ...   \n",
       "\n",
       "   Length.Main + Extras.Leisure  Length.Main + Extras.Median  \\\n",
       "0                     29.966667                        25.00   \n",
       "1                      9.866667                         9.75   \n",
       "2                      0.000000                         0.00   \n",
       "3                     17.316667                        12.50   \n",
       "4                     25.200000                        20.00   \n",
       "\n",
       "  Length.Main + Extras.Polled Length.Main + Extras.Rushed  \\\n",
       "0                          16                   18.333333   \n",
       "1                           2                    9.616667   \n",
       "2                           0                    0.000000   \n",
       "3                          12                   10.483333   \n",
       "4                           3                   16.450000   \n",
       "\n",
       "   Length.Main Story.Average  Length.Main Story.Leisure  \\\n",
       "0                  14.333333                  18.316667   \n",
       "1                  10.333333                  11.083333   \n",
       "2                   0.000000                   0.000000   \n",
       "3                   8.350000                  11.083333   \n",
       "4                  15.500000                  15.750000   \n",
       "\n",
       "   Length.Main Story.Median  Length.Main Story.Polled  \\\n",
       "0                      14.5                        21   \n",
       "1                      10.0                         3   \n",
       "2                       0.0                         0   \n",
       "3                       8.0                        23   \n",
       "4                      15.5                         2   \n",
       "\n",
       "   Length.Main Story.Rushed  Metrics.Review Group  \n",
       "0                  9.700000                     4  \n",
       "1                  9.583333                     4  \n",
       "2                  0.000000                     4  \n",
       "3                  5.333333                     3  \n",
       "4                 15.250000                     3  \n",
       "\n",
       "[5 rows x 37 columns]"
      ]
     },
     "execution_count": 7,
     "metadata": {},
     "output_type": "execute_result"
    }
   ],
   "source": [
    "df.head()"
   ]
  },
  {
   "cell_type": "markdown",
   "metadata": {},
   "source": [
    "## Data Analysis"
   ]
  },
  {
   "cell_type": "code",
   "execution_count": 8,
   "metadata": {
    "scrolled": true
   },
   "outputs": [
    {
     "data": {
      "text/plain": [
       "<matplotlib.axes._subplots.AxesSubplot at 0x1daa7ef0b20>"
      ]
     },
     "execution_count": 8,
     "metadata": {},
     "output_type": "execute_result"
    },
    {
     "data": {
      "image/png": "[encoded data removed]",
      "text/plain": [
       "<Figure size 1152x864 with 2 Axes>"
      ]
     },
     "metadata": {
      "needs_background": "light"
     },
     "output_type": "display_data"
    }
   ],
   "source": [
    "df_corr_1 = df.drop(['Features.Handheld', 'Features.Max Players', 'Features.Multiplatform', 'Features.Online', 'Metadata.Licensed',  'Metadata.Sequel', 'Release.Re-release'], 1)\n",
    "df_corr = df[['Metrics.Review Score','Metrics.Sales', 'Metrics.Used Price', 'Release.Year', 'Features.Max Players',]]\n",
    "corr_matrix = df_corr.corr()\n",
    "plt.subplots(figsize = (16, 12))\n",
    "sns.heatmap(corr_matrix, annot=True)"
   ]
  },
  {
   "cell_type": "markdown",
   "metadata": {},
   "source": [
    "## Multiple Linear regression"
   ]
  },
  {
   "cell_type": "code",
   "execution_count": 9,
   "metadata": {},
   "outputs": [],
   "source": [
    "def makeListForLabel(label_name):\n",
    "    myList = df[label_name]\n",
    "    tempArray = []\n",
    "    for word in myList:\n",
    "        if word not in tempArray:\n",
    "            tempArray.append(word)\n",
    "    return tempArray   "
   ]
  },
  {
   "cell_type": "code",
   "execution_count": 10,
   "metadata": {},
   "outputs": [],
   "source": [
    "\n",
    "df_encoded = pd.DataFrame()\n",
    "\n",
    "labels = {\n",
    "    'Metadata.Genres': makeListForLabel('Metadata.Genres'),\n",
    "    'Metadata.Publishers': makeListForLabel('Metadata.Publishers'),\n",
    "    'Features.Handheld': makeListForLabel('Features.Handheld'),\n",
    "    'Features.Multiplatform': makeListForLabel('Features.Multiplatform'),\n",
    "    'Features.Online': makeListForLabel('Features.Online'),\n",
    "    'Metadata.Licensed': makeListForLabel('Metadata.Licensed'),\n",
    "    'Metadata.Sequel': makeListForLabel('Metadata.Sequel'),\n",
    "    'Release.Console': makeListForLabel('Release.Console'),\n",
    "    'Release.Rating': makeListForLabel('Release.Rating'),\n",
    "    \n",
    "}\n",
    "label_encoders = {}\n",
    "for column in df:\n",
    "    if column in labels:\n",
    "        label_encoders[column] = preprocessing.LabelEncoder()\n",
    "        label_encoders[column].fit(labels[column])\n",
    "        df_encoded[column] = label_encoders[column].transform(df[column])\n",
    "    else:\n",
    "        df_encoded[column] = df[column]      "
   ]
  },
  {
   "cell_type": "code",
   "execution_count": 11,
   "metadata": {},
   "outputs": [],
   "source": [
    "Multi_features = np.array(df_encoded[[\n",
    "    'Metrics.Review Score', \n",
    "    'Release.Year', \n",
    "    'Features.Max Players',\n",
    "    'Metadata.Genres'  \n",
    "     ]    \n",
    "])\n",
    "Multi_label = np.array(df_encoded['Metrics.Sales'])\n",
    "Multi_regressor = linear_model.LinearRegression()"
   ]
  },
  {
   "cell_type": "code",
   "execution_count": 12,
   "metadata": {},
   "outputs": [],
   "source": [
    "Multi_features_train, Multi_features_test, Multi_label_train, Multi_label_test = model_selection.train_test_split(Multi_features,Multi_label, test_size = 0.1)"
   ]
  },
  {
   "cell_type": "code",
   "execution_count": 13,
   "metadata": {},
   "outputs": [
    {
     "data": {
      "text/plain": [
       "LinearRegression()"
      ]
     },
     "execution_count": 13,
     "metadata": {},
     "output_type": "execute_result"
    }
   ],
   "source": [
    "Multi_regressor.fit(Multi_features_train,Multi_label_train)"
   ]
  },
  {
   "cell_type": "code",
   "execution_count": 14,
   "metadata": {
    "scrolled": true
   },
   "outputs": [
    {
     "data": {
      "text/plain": [
       "array([ 564.62627059,  965.05945349,   98.24085964,  975.83954556,\n",
       "        249.15787004,  483.94956902,  350.01038419,  413.29948071,\n",
       "        648.434879  , 1061.21410739,  779.30268427, 1085.49641889,\n",
       "        538.60615602,  771.59397175,  798.66449076,  971.20221259,\n",
       "        320.97292923, -667.79130022,  972.76816601,   99.9213795 ,\n",
       "       1083.99099275,  478.96853673, 1059.64815397,  696.71632996,\n",
       "        729.11158058,  674.28314392, -613.02014677,   56.9146424 ,\n",
       "       1061.21410739,   19.4738108 ,  762.78961258,  699.84823679,\n",
       "        431.96662309,  992.47367182,  817.61804924,  303.64260739,\n",
       "       -203.14369234,  677.18591787,  843.17989806,  237.22160403,\n",
       "        209.8073857 ,  375.51494979,  373.94899637,  616.03962838,\n",
       "         72.73629405,  477.74628263,  129.13068413,  522.95635403,\n",
       "       1109.83925766,  675.61996445,  975.83954556, -145.35519851,\n",
       "        404.49512154,  317.84102239, 1158.52493522,  290.2549544 ,\n",
       "        728.93973092,  -11.12959758,   93.94722599,  240.12437799,\n",
       "        593.60644234,  567.41447811,  511.36378735,  482.03991628,\n",
       "        538.66343924,  840.33440732,  480.7063398 , 1059.64815397,\n",
       "        458.1013041 ,  565.96309113,  561.55489104,  429.12113235,\n",
       "        811.35423557,  867.74862565,  263.06986895,   -9.50636095,\n",
       "         19.4738108 ,  111.74307907, 1032.23393564,  798.66449076,\n",
       "         72.73629405,  432.25303919,  480.87818946,  258.43253598,\n",
       "       -125.71021998])"
      ]
     },
     "execution_count": 14,
     "metadata": {},
     "output_type": "execute_result"
    }
   ],
   "source": [
    "Multi_label_prediction = Multi_regressor.predict(Multi_features_test)\n",
    "Multi_label_prediction"
   ]
  },
  {
   "cell_type": "markdown",
   "metadata": {},
   "source": [
    "### Prediction"
   ]
  },
  {
   "cell_type": "code",
   "execution_count": 15,
   "metadata": {},
   "outputs": [
    {
     "name": "stdout",
     "output_type": "stream",
     "text": [
      "600.61 $\n"
     ]
    }
   ],
   "source": [
    "newData = np.array([85, 2020, 1, 1]).reshape(1,-1)\n",
    "print(round(Multi_regressor.predict(newData)[0], 2),'$')"
   ]
  },
  {
   "cell_type": "markdown",
   "metadata": {},
   "source": [
    "## Validation of Multiple Variable regression"
   ]
  },
  {
   "cell_type": "code",
   "execution_count": 16,
   "metadata": {},
   "outputs": [
    {
     "name": "stdout",
     "output_type": "stream",
     "text": [
      "Mean squared error: 256007.86\n",
      "R-squared (training)  0.126\n",
      "R-squared (testing)  -0.236\n",
      "Explained variance score  -0.17\n",
      "R2 score: -0.24\n"
     ]
    }
   ],
   "source": [
    "# The mean squared error\n",
    "print(\"Mean squared error: %.2f\" % sm.mean_squared_error(Multi_label_test, Multi_label_prediction))\n",
    "\n",
    "# Explained variance score: 1 is perfect prediction\n",
    "print('R-squared (training) ', round(Multi_regressor.score(Multi_features_train, Multi_label_train), 3))\n",
    "print('R-squared (testing) ', round(Multi_regressor.score(Multi_features_test, Multi_label_test), 3))\n",
    "print('Explained variance score ', round(sm.explained_variance_score(Multi_label_test, Multi_label_prediction), 2))\n",
    "print('R2 score: %.2f' % sm.r2_score(Multi_label_test, Multi_label_prediction))"
   ]
  },
  {
   "cell_type": "markdown",
   "metadata": {},
   "source": [
    "## Prediction with decision tree"
   ]
  },
  {
   "cell_type": "code",
   "execution_count": 17,
   "metadata": {},
   "outputs": [],
   "source": [
    "DT_features = np.array(df_encoded[[\n",
    "    'Release.Year', \n",
    "    'Features.Max Players',\n",
    "    'Metadata.Genres',\n",
    "    ]    \n",
    "])\n",
    "DT_label = np.array(df_encoded['Metrics.Review Group'])\n",
    "DT_label=DT_label.astype('int')"
   ]
  },
  {
   "cell_type": "code",
   "execution_count": 18,
   "metadata": {},
   "outputs": [
    {
     "data": {
      "text/plain": [
       "array([[2007,    4,    0],\n",
       "       [2007,    1,    7],\n",
       "       [2007,    1,    0]], dtype=int64)"
      ]
     },
     "execution_count": 18,
     "metadata": {},
     "output_type": "execute_result"
    }
   ],
   "source": [
    "\n",
    "\n",
    "class0 = np.array(DT_features[(DT_label== 0)])\n",
    "class1 = np.array(DT_features[(DT_label == 1)])\n",
    "class2 = np.array(DT_features[(DT_label == 2)])\n",
    "class3 = np.array(DT_features[(DT_label == 3)])\n",
    "class1"
   ]
  },
  {
   "cell_type": "code",
   "execution_count": 19,
   "metadata": {},
   "outputs": [],
   "source": [
    "DT_features_train, DT_features_test, DT_label_train, DT_label_test = model_selection.train_test_split(DT_features, DT_label, test_size=0.1, random_state=5)"
   ]
  },
  {
   "cell_type": "code",
   "execution_count": 20,
   "metadata": {},
   "outputs": [
    {
     "data": {
      "text/plain": [
       "RandomForestClassifier(max_depth=6)"
      ]
     },
     "execution_count": 20,
     "metadata": {},
     "output_type": "execute_result"
    }
   ],
   "source": [
    "classifier = RandomForestClassifier(n_estimators = 100, max_depth = 6)\n",
    "classifier.fit(DT_features_train, DT_label_train)"
   ]
  },
  {
   "cell_type": "markdown",
   "metadata": {},
   "source": [
    "## Validate our Decision tree model"
   ]
  },
  {
   "cell_type": "code",
   "execution_count": 21,
   "metadata": {},
   "outputs": [
    {
     "data": {
      "text/plain": [
       "array([3, 3, 3, 3, 3, 3, 3, 3, 3, 3, 3, 3, 3, 3, 3, 3, 3, 3, 3, 3, 3, 3,\n",
       "       4, 3, 3, 3, 3, 3, 3, 3, 3, 3, 3, 3, 4, 3, 3, 3, 3, 3, 3, 3, 3, 3,\n",
       "       3, 3, 3, 3, 3, 3, 3, 3, 3, 3, 3, 3, 3, 3, 3, 3, 3, 3, 3, 3, 3, 3,\n",
       "       3, 3, 3, 4, 3, 3, 3, 3, 3, 3, 3, 3, 3, 3, 3, 3, 3, 4, 3])"
      ]
     },
     "execution_count": 21,
     "metadata": {},
     "output_type": "execute_result"
    }
   ],
   "source": [
    "review_score_prediction = classifier.predict(DT_features_test)\n",
    "review_score_prediction"
   ]
  },
  {
   "cell_type": "code",
   "execution_count": 22,
   "metadata": {},
   "outputs": [],
   "source": [
    "DT_NewData = np.array([2015, 5, 8])"
   ]
  },
  {
   "cell_type": "code",
   "execution_count": 23,
   "metadata": {},
   "outputs": [
    {
     "data": {
      "text/plain": [
       "array([3])"
      ]
     },
     "execution_count": 23,
     "metadata": {},
     "output_type": "execute_result"
    }
   ],
   "source": [
    "a = classifier.predict([DT_NewData])\n",
    "a\n",
    "\n",
    "# 1 = score below 25\n",
    "# 2 = score between 26 and 50\n",
    "# 3 = score between 50 and 75\n",
    "# 4 = score between 76 and 100"
   ]
  },
  {
   "cell_type": "code",
   "execution_count": 24,
   "metadata": {},
   "outputs": [
    {
     "name": "stdout",
     "output_type": "stream",
     "text": [
      "              precision    recall  f1-score   support\n",
      "\n",
      "  score 0-25       0.00      0.00      0.00         2\n",
      " score 26-50       1.00      0.01      0.02        79\n",
      " score 51-75       0.60      0.98      0.74       442\n",
      "score 76-100       0.73      0.11      0.20       237\n",
      "\n",
      "    accuracy                           0.61       760\n",
      "   macro avg       0.58      0.28      0.24       760\n",
      "weighted avg       0.68      0.61      0.50       760\n",
      "\n"
     ]
    }
   ],
   "source": [
    "class_names = ['score 0-25', 'score 26-50', 'score 51-75','score 76-100']\n",
    "print(classification_report(DT_label_train, classifier.predict(DT_features_train), target_names=class_names))"
   ]
  },
  {
   "cell_type": "code",
   "execution_count": 25,
   "metadata": {},
   "outputs": [
    {
     "name": "stdout",
     "output_type": "stream",
     "text": [
      "              precision    recall  f1-score   support\n",
      "\n",
      "  score 0-25       0.00      0.00      0.00         1\n",
      " score 26-50       0.00      0.00      0.00         5\n",
      " score 51-75       0.60      1.00      0.75        49\n",
      "score 76-100       1.00      0.13      0.24        30\n",
      "\n",
      "    accuracy                           0.62        85\n",
      "   macro avg       0.40      0.28      0.25        85\n",
      "weighted avg       0.70      0.62      0.52        85\n",
      "\n"
     ]
    }
   ],
   "source": [
    "print(classification_report(DT_label_test, classifier.predict(DT_features_test), target_names=class_names))"
   ]
  },
  {
   "cell_type": "code",
   "execution_count": 26,
   "metadata": {},
   "outputs": [
    {
     "data": {
      "image/png": "[encoded data removed]",
      "text/plain": [
       "<Figure size 432x288 with 2 Axes>"
      ]
     },
     "metadata": {
      "needs_background": "light"
     },
     "output_type": "display_data"
    }
   ],
   "source": [
    "confusion_mat = confusion_matrix(DT_label_test,classifier.predict(DT_features_test))\n",
    "confusion = pd.crosstab(DT_label_test,classifier.predict(DT_features_test))\n",
    "\n",
    "\n",
    "# Visualize confusion matrix\n",
    "plt.imshow(confusion_mat, interpolation='nearest', cmap = 'Greens')\n",
    "plt.title('Confusion matrix')\n",
    "plt.colorbar()\n",
    "ticks = np.arange(len(confusion))\n",
    "plt.xticks(ticks, ticks)\n",
    "plt.yticks(ticks, ticks)\n",
    "plt.grid(False)\n",
    "\n",
    "plt.ylabel('True labels')\n",
    "plt.xlabel('Predicted labels')\n",
    "\n",
    "plt.show()"
   ]
  },
  {
   "cell_type": "markdown",
   "metadata": {},
   "source": [
    "## Bayers therom"
   ]
  },
  {
   "cell_type": "code",
   "execution_count": 27,
   "metadata": {},
   "outputs": [],
   "source": [
    "NB_label = np.array(df['Metadata.Genres'])\n",
    "NB_features = np.array(df['Title'])\n",
    "target_names = ['Action', 'Sports','Strategy','Role-Playing (RPG)','Racing / Driving', 'Simulation','Adventure', 'Educational']"
   ]
  },
  {
   "cell_type": "code",
   "execution_count": 28,
   "metadata": {},
   "outputs": [],
   "source": [
    "NB_features_train, NB_features_test, NB_label_train, NB_label_test = model_selection.train_test_split(NB_features,NB_label , test_size = 0.25, random_state = 5)"
   ]
  },
  {
   "cell_type": "code",
   "execution_count": 29,
   "metadata": {},
   "outputs": [
    {
     "data": {
      "text/html": [
       "<div>\n",
       "<style scoped>\n",
       "    .dataframe tbody tr th:only-of-type {\n",
       "        vertical-align: middle;\n",
       "    }\n",
       "\n",
       "    .dataframe tbody tr th {\n",
       "        vertical-align: top;\n",
       "    }\n",
       "\n",
       "    .dataframe thead th {\n",
       "        text-align: right;\n",
       "    }\n",
       "</style>\n",
       "<table border=\"1\" class=\"dataframe\">\n",
       "  <thead>\n",
       "    <tr style=\"text-align: right;\">\n",
       "      <th></th>\n",
       "      <th>idf_weights</th>\n",
       "    </tr>\n",
       "  </thead>\n",
       "  <tbody>\n",
       "    <tr>\n",
       "      <th>the</th>\n",
       "      <td>2.724661</td>\n",
       "    </tr>\n",
       "    <tr>\n",
       "      <th>of</th>\n",
       "      <td>2.930260</td>\n",
       "    </tr>\n",
       "    <tr>\n",
       "      <th>for</th>\n",
       "      <td>4.316555</td>\n",
       "    </tr>\n",
       "    <tr>\n",
       "      <th>man</th>\n",
       "      <td>4.561677</td>\n",
       "    </tr>\n",
       "    <tr>\n",
       "      <th>speed</th>\n",
       "      <td>4.679460</td>\n",
       "    </tr>\n",
       "    <tr>\n",
       "      <th>...</th>\n",
       "      <td>...</td>\n",
       "    </tr>\n",
       "    <tr>\n",
       "      <th>motorsport</th>\n",
       "      <td>6.758902</td>\n",
       "    </tr>\n",
       "    <tr>\n",
       "      <th>more</th>\n",
       "      <td>6.758902</td>\n",
       "    </tr>\n",
       "    <tr>\n",
       "      <th>monstrous</th>\n",
       "      <td>6.758902</td>\n",
       "    </tr>\n",
       "    <tr>\n",
       "      <th>dug</th>\n",
       "      <td>6.758902</td>\n",
       "    </tr>\n",
       "    <tr>\n",
       "      <th>zx</th>\n",
       "      <td>6.758902</td>\n",
       "    </tr>\n",
       "  </tbody>\n",
       "</table>\n",
       "<p>878 rows × 1 columns</p>\n",
       "</div>"
      ],
      "text/plain": [
       "            idf_weights\n",
       "the            2.724661\n",
       "of             2.930260\n",
       "for            4.316555\n",
       "man            4.561677\n",
       "speed          4.679460\n",
       "...                 ...\n",
       "motorsport     6.758902\n",
       "more           6.758902\n",
       "monstrous      6.758902\n",
       "dug            6.758902\n",
       "zx             6.758902\n",
       "\n",
       "[878 rows x 1 columns]"
      ]
     },
     "execution_count": 29,
     "metadata": {},
     "output_type": "execute_result"
    }
   ],
   "source": [
    "# instantiate CountVectorizer()\n",
    "cv = CountVectorizer()\n",
    "\n",
    "# generate word counts for the words in our train documents\n",
    "word_count = cv.fit_transform(NB_features_train)\n",
    "\n",
    "# see the mapping between words and assigned indices\n",
    "# compute the IDFs of words\n",
    "tfidf_transformer = TfidfTransformer(smooth_idf=True,use_idf=True)\n",
    "tfidf_transformer.fit(word_count)\n",
    "\n",
    "# to get an idea of how the IDF values look, we place them in a DataFrame, sort them, and then print them\n",
    "df_wrd = pd.DataFrame(tfidf_transformer.idf_, index=cv.get_feature_names(),columns=[\"idf_weights\"])\n",
    "df_wrd.sort_values(by=['idf_weights'])"
   ]
  },
  {
   "cell_type": "code",
   "execution_count": 30,
   "metadata": {},
   "outputs": [],
   "source": [
    "# count matrix\n",
    "count_vector=cv.transform(NB_features_train)\n",
    "# tf-idf scores\n",
    "tf_idf_vector=tfidf_transformer.transform(count_vector)"
   ]
  },
  {
   "cell_type": "code",
   "execution_count": 31,
   "metadata": {},
   "outputs": [
    {
     "name": "stdout",
     "output_type": "stream",
     "text": [
      "  (0, 337)\t0.5399371276999435\n",
      "  (0, 577)\t0.5399371276999435\n",
      "  (0, 349)\t0.4565828491425569\n",
      "  (0, 744)\t0.4565828491425569\n",
      "  (1, 1)\t0.5098014175581421\n",
      "  (1, 301)\t0.6166573622090623\n",
      "  (1, 508)\t0.5998634947128139\n",
      "  (2, 263)\t0.46257841079085493\n",
      "  (2, 631)\t0.4845172337090084\n",
      "  (2, 380)\t0.392701480550436\n",
      "  (2, 406)\t0.4455613376868962\n",
      "  (2, 202)\t0.4455613376868962\n",
      "  (3, 3)\t0.5809120072010635\n",
      "  (3, 513)\t0.5701600475123305\n",
      "  (3, 448)\t0.5809120072010635\n",
      "  (4, 242)\t1.0\n"
     ]
    }
   ],
   "source": [
    "# create an instance of the vectorizer \n",
    "tfidf = TfidfVectorizer(encoding='utf-8',lowercase=True, stop_words='english', max_df=0.5, sublinear_tf=True, use_idf=True)\n",
    "\n",
    "# implement it for processing the train data\n",
    "word_vect = tfidf.fit_transform(NB_features_train)\n",
    "\n",
    "# see the output of vectorization per document in the format (document, word index) score, unsorted\n",
    "print(word_vect[0:5, ])"
   ]
  },
  {
   "cell_type": "code",
   "execution_count": 32,
   "metadata": {},
   "outputs": [
    {
     "data": {
      "text/html": [
       "<div>\n",
       "<style scoped>\n",
       "    .dataframe tbody tr th:only-of-type {\n",
       "        vertical-align: middle;\n",
       "    }\n",
       "\n",
       "    .dataframe tbody tr th {\n",
       "        vertical-align: top;\n",
       "    }\n",
       "\n",
       "    .dataframe thead th {\n",
       "        text-align: right;\n",
       "    }\n",
       "</style>\n",
       "<table border=\"1\" class=\"dataframe\">\n",
       "  <thead>\n",
       "    <tr style=\"text-align: right;\">\n",
       "      <th></th>\n",
       "      <th>tfidf</th>\n",
       "    </tr>\n",
       "  </thead>\n",
       "  <tbody>\n",
       "    <tr>\n",
       "      <th>prostreet</th>\n",
       "      <td>0.670441</td>\n",
       "    </tr>\n",
       "    <tr>\n",
       "      <th>need</th>\n",
       "      <td>0.531975</td>\n",
       "    </tr>\n",
       "    <tr>\n",
       "      <th>speed</th>\n",
       "      <td>0.517215</td>\n",
       "    </tr>\n",
       "    <tr>\n",
       "      <th>06</th>\n",
       "      <td>0.000000</td>\n",
       "    </tr>\n",
       "    <tr>\n",
       "      <th>potter</th>\n",
       "      <td>0.000000</td>\n",
       "    </tr>\n",
       "    <tr>\n",
       "      <th>...</th>\n",
       "      <td>...</td>\n",
       "    </tr>\n",
       "    <tr>\n",
       "      <th>fantastic</th>\n",
       "      <td>0.000000</td>\n",
       "    </tr>\n",
       "    <tr>\n",
       "      <th>fantasy</th>\n",
       "      <td>0.000000</td>\n",
       "    </tr>\n",
       "    <tr>\n",
       "      <th>far</th>\n",
       "      <td>0.000000</td>\n",
       "    </tr>\n",
       "    <tr>\n",
       "      <th>fast</th>\n",
       "      <td>0.000000</td>\n",
       "    </tr>\n",
       "    <tr>\n",
       "      <th>zx</th>\n",
       "      <td>0.000000</td>\n",
       "    </tr>\n",
       "  </tbody>\n",
       "</table>\n",
       "<p>832 rows × 1 columns</p>\n",
       "</div>"
      ],
      "text/plain": [
       "              tfidf\n",
       "prostreet  0.670441\n",
       "need       0.531975\n",
       "speed      0.517215\n",
       "06         0.000000\n",
       "potter     0.000000\n",
       "...             ...\n",
       "fantastic  0.000000\n",
       "fantasy    0.000000\n",
       "far        0.000000\n",
       "fast       0.000000\n",
       "zx         0.000000\n",
       "\n",
       "[832 rows x 1 columns]"
      ]
     },
     "execution_count": 32,
     "metadata": {},
     "output_type": "execute_result"
    }
   ],
   "source": [
    "# get the vector for the first document\n",
    "first_vector = word_vect[50]\n",
    " \n",
    "# place tf-idf values in a pandas data frame to see it in more readable format\n",
    "df_NB = pd.DataFrame(first_vector.T.todense(), index=tfidf.get_feature_names(), columns=[\"tfidf\"])\n",
    "df_NB.sort_values(by=[\"tfidf\"],ascending=False)"
   ]
  },
  {
   "cell_type": "code",
   "execution_count": 33,
   "metadata": {},
   "outputs": [],
   "source": [
    "# we choose multinomial Naive Bayes \n",
    "NB_classifier = MultinomialNB()"
   ]
  },
  {
   "cell_type": "code",
   "execution_count": 34,
   "metadata": {},
   "outputs": [],
   "source": [
    "# connect the vectorizer to the multinomial classifier\n",
    "model = make_pipeline(tfidf, NB_classifier)"
   ]
  },
  {
   "cell_type": "code",
   "execution_count": 35,
   "metadata": {},
   "outputs": [
    {
     "data": {
      "text/plain": [
       "Pipeline(steps=[('tfidfvectorizer',\n",
       "                 TfidfVectorizer(max_df=0.5, stop_words='english',\n",
       "                                 sublinear_tf=True)),\n",
       "                ('multinomialnb', MultinomialNB())])"
      ]
     },
     "execution_count": 35,
     "metadata": {},
     "output_type": "execute_result"
    }
   ],
   "source": [
    "# train a model\n",
    "model.fit(NB_features_train, NB_label_train)"
   ]
  },
  {
   "cell_type": "code",
   "execution_count": 36,
   "metadata": {},
   "outputs": [
    {
     "data": {
      "text/plain": [
       "array(['Sports', 'Action', 'Action', 'Action', 'Action', 'Action',\n",
       "       'Action', 'Action', 'Action', 'Action', 'Sports', 'Action',\n",
       "       'Action', 'Sports', 'Action', 'Action', 'Sports', 'Sports',\n",
       "       'Action', 'Action', 'Action', 'Sports', 'Sports', 'Sports',\n",
       "       'Sports', 'Sports', 'Action', 'Action', 'Action', 'Action',\n",
       "       'Action', 'Action', 'Action', 'Action', 'Action', 'Action',\n",
       "       'Action', 'Action', 'Sports', 'Sports', 'Action', 'Action',\n",
       "       'Sports', 'Sports', 'Sports', 'Action', 'Action', 'Action',\n",
       "       'Action', 'Action', 'Action', 'Sports', 'Action', 'Sports',\n",
       "       'Action', 'Action', 'Sports', 'Sports', 'Action', 'Action',\n",
       "       'Action', 'Action', 'Action', 'Action', 'Sports', 'Action',\n",
       "       'Action', 'Sports', 'Action', 'Sports', 'Action', 'Action',\n",
       "       'Sports', 'Sports', 'Action', 'Action', 'Action', 'Action',\n",
       "       'Racing / Driving', 'Action', 'Action', 'Action', 'Action',\n",
       "       'Action', 'Action', 'Role-Playing (RPG)', 'Action', 'Sports',\n",
       "       'Action', 'Action', 'Action', 'Action', 'Action', 'Sports',\n",
       "       'Sports', 'Action', 'Action', 'Action', 'Sports', 'Action',\n",
       "       'Action', 'Action', 'Action', 'Action', 'Action', 'Sports',\n",
       "       'Action', 'Action', 'Action', 'Action', 'Action', 'Action',\n",
       "       'Action', 'Action', 'Sports', 'Action', 'Action', 'Action',\n",
       "       'Action', 'Action', 'Sports', 'Action', 'Action', 'Action',\n",
       "       'Action', 'Action', 'Action', 'Sports', 'Action', 'Action',\n",
       "       'Action', 'Action', 'Action', 'Action', 'Action', 'Action',\n",
       "       'Action', 'Action', 'Action', 'Action', 'Action', 'Action',\n",
       "       'Action', 'Action', 'Action', 'Racing / Driving', 'Action',\n",
       "       'Action', 'Action', 'Action', 'Action', 'Action', 'Action',\n",
       "       'Action', 'Action', 'Sports', 'Sports', 'Action', 'Action',\n",
       "       'Action', 'Action', 'Action', 'Action', 'Action', 'Action',\n",
       "       'Action', 'Sports', 'Action', 'Action', 'Sports', 'Action',\n",
       "       'Sports', 'Action', 'Action', 'Action', 'Action', 'Action',\n",
       "       'Action', 'Action', 'Action', 'Action', 'Sports', 'Action',\n",
       "       'Action', 'Action', 'Sports', 'Sports', 'Action', 'Action',\n",
       "       'Sports', 'Action', 'Action', 'Action', 'Action', 'Action',\n",
       "       'Sports', 'Sports', 'Action', 'Action', 'Sports', 'Sports',\n",
       "       'Action', 'Action', 'Action', 'Sports', 'Action', 'Action',\n",
       "       'Action', 'Action', 'Action', 'Action', 'Action'], dtype='<U18')"
      ]
     },
     "execution_count": 36,
     "metadata": {},
     "output_type": "execute_result"
    }
   ],
   "source": [
    "# use the trained model to predict categories for the test data\n",
    "genre_predicted = model.predict(NB_features_test)\n",
    "genre_predicted"
   ]
  },
  {
   "cell_type": "code",
   "execution_count": 37,
   "metadata": {},
   "outputs": [
    {
     "data": {
      "text/plain": [
       "0.7971698113207547"
      ]
     },
     "execution_count": 37,
     "metadata": {},
     "output_type": "execute_result"
    }
   ],
   "source": [
    "# measure the accuracy of the training\n",
    "model.score(NB_features_test,NB_label_test)"
   ]
  },
  {
   "cell_type": "code",
   "execution_count": 38,
   "metadata": {},
   "outputs": [
    {
     "data": {
      "text/plain": [
       "0.7971698113207547"
      ]
     },
     "execution_count": 38,
     "metadata": {},
     "output_type": "execute_result"
    }
   ],
   "source": [
    "# calculate the accuracy of the model with the test set\n",
    "accuracy = accuracy_score(NB_label_test, genre_predicted)\n",
    "accuracy"
   ]
  },
  {
   "cell_type": "code",
   "execution_count": 39,
   "metadata": {},
   "outputs": [
    {
     "data": {
      "text/plain": [
       "array([[120,   0,   0,   0,   0,   0,   0],\n",
       "       [  3,   0,   0,   0,   0,   0,   0],\n",
       "       [  2,   0,   2,   0,   0,   0,   0],\n",
       "       [ 12,   0,   0,   1,   0,   0,   0],\n",
       "       [ 10,   0,   0,   0,   0,   0,   0],\n",
       "       [  2,   0,   0,   0,   0,  46,   0],\n",
       "       [ 14,   0,   0,   0,   0,   0,   0]], dtype=int64)"
      ]
     },
     "execution_count": 39,
     "metadata": {},
     "output_type": "execute_result"
    }
   ],
   "source": [
    "# calculate confusion matrix to further evaluate the the accuracy of the prediction\n",
    "cmat = confusion_matrix(NB_label_test, genre_predicted)\n",
    "cmat"
   ]
  },
  {
   "cell_type": "code",
   "execution_count": 40,
   "metadata": {},
   "outputs": [
    {
     "data": {
      "image/png": "[encoded data removed]",
      "text/plain": [
       "<Figure size 432x288 with 1 Axes>"
      ]
     },
     "metadata": {},
     "output_type": "display_data"
    }
   ],
   "source": [
    "# visualize the confusion matrix by use of seaborn library\n",
    "sns.set()\n",
    "sns.heatmap(cmat.T, square=True, annot=True, fmt='d', cbar=False,\n",
    "            xticklabels=target_names, yticklabels=target_names)\n",
    "plt.xlabel('actual')\n",
    "plt.ylabel('predicted');\n",
    "plt.show()"
   ]
  },
  {
   "cell_type": "code",
   "execution_count": 41,
   "metadata": {},
   "outputs": [
    {
     "name": "stdout",
     "output_type": "stream",
     "text": [
      "                    precision    recall  f1-score   support\n",
      "\n",
      "            Action       0.74      1.00      0.85       120\n",
      "         Adventure       0.00      0.00      0.00         3\n",
      "  Racing / Driving       1.00      0.50      0.67         4\n",
      "Role-Playing (RPG)       1.00      0.08      0.14        13\n",
      "        Simulation       0.00      0.00      0.00        10\n",
      "            Sports       1.00      0.96      0.98        48\n",
      "          Strategy       0.00      0.00      0.00        14\n",
      "\n",
      "          accuracy                           0.80       212\n",
      "         macro avg       0.53      0.36      0.38       212\n",
      "      weighted avg       0.72      0.80      0.72       212\n",
      "\n"
     ]
    }
   ],
   "source": [
    "# print accuracy evaluation report\n",
    "report = classification_report(NB_label_test, genre_predicted)\n",
    "print(report)"
   ]
  },
  {
   "cell_type": "code",
   "execution_count": 44,
   "metadata": {},
   "outputs": [],
   "source": [
    "def my_prediction(string, train = NB_features_train, model=model):\n",
    "    genre_predicted = model.predict([string])\n",
    "    return genre_predicted[0]"
   ]
  },
  {
   "cell_type": "code",
   "execution_count": 45,
   "metadata": {},
   "outputs": [
    {
     "name": "stdout",
     "output_type": "stream",
     "text": [
      "Action\n",
      "Racing / Driving\n",
      "Sports\n",
      "Racing / Driving\n",
      "####################\n",
      "Action                465\n",
      "Sports                166\n",
      "Strategy               59\n",
      "Role-Playing (RPG)     52\n",
      "Racing / Driving       51\n",
      "Simulation             30\n",
      "Adventure              20\n",
      "Educational             2\n",
      "Name: Metadata.Genres, dtype: int64\n"
     ]
    }
   ],
   "source": [
    "print(my_prediction('Fun'))\n",
    "print(my_prediction('Speed'))\n",
    "print(my_prediction('FootBall'))\n",
    "print(my_prediction('need'))\n",
    "\n",
    "print('####################')\n",
    "print(df['Metadata.Genres'].value_counts())"
   ]
  },
  {
   "cell_type": "code",
   "execution_count": null,
   "metadata": {},
   "outputs": [],
   "source": []
  },
  {
   "cell_type": "code",
   "execution_count": null,
   "metadata": {},
   "outputs": [],
   "source": []
  },
  {
   "cell_type": "code",
   "execution_count": null,
   "metadata": {},
   "outputs": [],
   "source": []
  }
 ],
 "metadata": {
  "kernelspec": {
   "display_name": "Python 3",
   "language": "python",
   "name": "python3"
  },
  "language_info": {
   "codemirror_mode": {
    "name": "ipython",
    "version": 3
   },
   "file_extension": ".py",
   "mimetype": "text/x-python",
   "name": "python",
   "nbconvert_exporter": "python",
   "pygments_lexer": "ipython3",
   "version": "3.8.3"
  }
 },
 "nbformat": 4,
 "nbformat_minor": 4
}
