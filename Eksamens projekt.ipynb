{
 "cells": [
  {
   "cell_type": "markdown",
   "metadata": {},
   "source": [
    "## Needed Imports"
   ]
  },
  {
   "cell_type": "code",
   "execution_count": 365,
   "metadata": {},
   "outputs": [],
   "source": [
    "import pandas as pd \n",
    "import numpy as np\n",
    "import matplotlib.pyplot as plt\n",
    "import seaborn as sns\n",
    "from sklearn import model_selection\n",
    "from sklearn import linear_model, preprocessing\n",
    "from sklearn import metrics as sm\n",
    "\n",
    "\n",
    "from sklearn.tree import DecisionTreeClassifier\n",
    "from sklearn.ensemble import RandomForestClassifier\n",
    "from sklearn.metrics import accuracy_score\n",
    "from sklearn.metrics import classification_report\n",
    "from sklearn.metrics import confusion_matrix"
   ]
  },
  {
   "cell_type": "markdown",
   "metadata": {},
   "source": [
    "## Data preperation"
   ]
  },
  {
   "cell_type": "code",
   "execution_count": 366,
   "metadata": {},
   "outputs": [],
   "source": [
    "lines = []\n",
    "with open('data/video_games.csv', 'r') as input:\n",
    "    lines = input.readlines()\n",
    "\n",
    "conversion = '\"'\n",
    "newtext = ''\n",
    "outputLines = []\n",
    "for line in lines:\n",
    "    temp = line[:]\n",
    "    for c in conversion:\n",
    "        temp = temp.replace(c, newtext)\n",
    "    outputLines.append(temp)\n",
    "\n",
    "with open('data/video_games4.csv', 'w') as output:\n",
    "    for line in outputLines:\n",
    "        output.write(line)"
   ]
  },
  {
   "cell_type": "code",
   "execution_count": 367,
   "metadata": {},
   "outputs": [],
   "source": [
    "df = pd.read_csv('data/video_games4.csv', index_col=False, encoding='iso-8859-1', nrows=1000,\n",
    "                        warn_bad_lines=False, error_bad_lines=False)"
   ]
  },
  {
   "cell_type": "code",
   "execution_count": 368,
   "metadata": {},
   "outputs": [],
   "source": [
    "def group_review_score():\n",
    "    df['Metrics.Review Group'] = ''\n",
    "    df.loc[df['Metrics.Review Score'] <= 25, 'Metrics.Review Group'] = 1\n",
    "    df.loc[(df['Metrics.Review Score'] >= 26) & (df['Metrics.Review Score'] <=50), 'Metrics.Review Group'] = 2\n",
    "    df.loc[(df['Metrics.Review Score'] >= 51) & (df['Metrics.Review Score'] <=75), 'Metrics.Review Group'] = 3\n",
    "    df.loc[(df['Metrics.Review Score'] >= 76) & (df['Metrics.Review Score'] <=100), 'Metrics.Review Group'] = 4"
   ]
  },
  {
   "cell_type": "code",
   "execution_count": 400,
   "metadata": {},
   "outputs": [],
   "source": [
    "# We had 167 nan values on the puplisher column, we will replace those with \"Unknown\" publishers. \n",
    "df['Metadata.Publishers'].fillna('Unkown', inplace = True)\n",
    "## For prettier numbers, we'll turn the Sales from \"in millions\" to \"in thousands\".\n",
    "df['Metrics.Sales']= df['Metrics.Sales']*1000\n",
    "\n",
    "## Group the review scores into 4 classes for later confusion matrix\n",
    "group_review_score()\n"
   ]
  },
  {
   "cell_type": "code",
   "execution_count": 370,
   "metadata": {},
   "outputs": [
    {
     "data": {
      "text/plain": [
       "3    491\n",
       "4    267\n",
       "2     84\n",
       "1      3\n",
       "Name: Metrics.Review Group, dtype: int64"
      ]
     },
     "execution_count": 370,
     "metadata": {},
     "output_type": "execute_result"
    }
   ],
   "source": [
    "df['Metrics.Review Group'].value_counts()"
   ]
  },
  {
   "cell_type": "code",
   "execution_count": 398,
   "metadata": {},
   "outputs": [
    {
     "data": {
      "text/html": [
       "<div>\n",
       "<style scoped>\n",
       "    .dataframe tbody tr th:only-of-type {\n",
       "        vertical-align: middle;\n",
       "    }\n",
       "\n",
       "    .dataframe tbody tr th {\n",
       "        vertical-align: top;\n",
       "    }\n",
       "\n",
       "    .dataframe thead th {\n",
       "        text-align: right;\n",
       "    }\n",
       "</style>\n",
       "<table border=\"1\" class=\"dataframe\">\n",
       "  <thead>\n",
       "    <tr style=\"text-align: right;\">\n",
       "      <th></th>\n",
       "      <th>Title</th>\n",
       "      <th>Features.Handheld</th>\n",
       "      <th>Features.Max Players</th>\n",
       "      <th>Features.Multiplatform</th>\n",
       "      <th>Features.Online</th>\n",
       "      <th>Metadata.Genres</th>\n",
       "      <th>Metadata.Licensed</th>\n",
       "      <th>Metadata.Publishers</th>\n",
       "      <th>Metadata.Sequel</th>\n",
       "      <th>Metrics.Review Score</th>\n",
       "      <th>...</th>\n",
       "      <th>Length.Main + Extras.Leisure</th>\n",
       "      <th>Length.Main + Extras.Median</th>\n",
       "      <th>Length.Main + Extras.Polled</th>\n",
       "      <th>Length.Main + Extras.Rushed</th>\n",
       "      <th>Length.Main Story.Average</th>\n",
       "      <th>Length.Main Story.Leisure</th>\n",
       "      <th>Length.Main Story.Median</th>\n",
       "      <th>Length.Main Story.Polled</th>\n",
       "      <th>Length.Main Story.Rushed</th>\n",
       "      <th>Metrics.Review Group</th>\n",
       "    </tr>\n",
       "  </thead>\n",
       "  <tbody>\n",
       "    <tr>\n",
       "      <th>0</th>\n",
       "      <td>Super Mario 64 DS</td>\n",
       "      <td>True</td>\n",
       "      <td>1</td>\n",
       "      <td>True</td>\n",
       "      <td>True</td>\n",
       "      <td>Action</td>\n",
       "      <td>True</td>\n",
       "      <td>Nintendo</td>\n",
       "      <td>True</td>\n",
       "      <td>85</td>\n",
       "      <td>...</td>\n",
       "      <td>29.966667</td>\n",
       "      <td>25.00</td>\n",
       "      <td>16</td>\n",
       "      <td>18.333333</td>\n",
       "      <td>14.333333</td>\n",
       "      <td>18.316667</td>\n",
       "      <td>14.5</td>\n",
       "      <td>21</td>\n",
       "      <td>9.700000</td>\n",
       "      <td>4</td>\n",
       "    </tr>\n",
       "    <tr>\n",
       "      <th>1</th>\n",
       "      <td>Lumines: Puzzle Fusion</td>\n",
       "      <td>True</td>\n",
       "      <td>1</td>\n",
       "      <td>True</td>\n",
       "      <td>True</td>\n",
       "      <td>Strategy</td>\n",
       "      <td>True</td>\n",
       "      <td>Ubisoft</td>\n",
       "      <td>True</td>\n",
       "      <td>89</td>\n",
       "      <td>...</td>\n",
       "      <td>9.866667</td>\n",
       "      <td>9.75</td>\n",
       "      <td>2</td>\n",
       "      <td>9.616667</td>\n",
       "      <td>10.333333</td>\n",
       "      <td>11.083333</td>\n",
       "      <td>10.0</td>\n",
       "      <td>3</td>\n",
       "      <td>9.583333</td>\n",
       "      <td>4</td>\n",
       "    </tr>\n",
       "    <tr>\n",
       "      <th>2</th>\n",
       "      <td>Hot Shots Golf: Open Tee</td>\n",
       "      <td>True</td>\n",
       "      <td>1</td>\n",
       "      <td>True</td>\n",
       "      <td>True</td>\n",
       "      <td>Sports</td>\n",
       "      <td>True</td>\n",
       "      <td>Sony</td>\n",
       "      <td>True</td>\n",
       "      <td>81</td>\n",
       "      <td>...</td>\n",
       "      <td>0.000000</td>\n",
       "      <td>0.00</td>\n",
       "      <td>0</td>\n",
       "      <td>0.000000</td>\n",
       "      <td>0.000000</td>\n",
       "      <td>0.000000</td>\n",
       "      <td>0.0</td>\n",
       "      <td>0</td>\n",
       "      <td>0.000000</td>\n",
       "      <td>4</td>\n",
       "    </tr>\n",
       "    <tr>\n",
       "      <th>3</th>\n",
       "      <td>Spider-Man 2</td>\n",
       "      <td>True</td>\n",
       "      <td>1</td>\n",
       "      <td>True</td>\n",
       "      <td>True</td>\n",
       "      <td>Action</td>\n",
       "      <td>True</td>\n",
       "      <td>Activision</td>\n",
       "      <td>True</td>\n",
       "      <td>61</td>\n",
       "      <td>...</td>\n",
       "      <td>17.316667</td>\n",
       "      <td>12.50</td>\n",
       "      <td>12</td>\n",
       "      <td>10.483333</td>\n",
       "      <td>8.350000</td>\n",
       "      <td>11.083333</td>\n",
       "      <td>8.0</td>\n",
       "      <td>23</td>\n",
       "      <td>5.333333</td>\n",
       "      <td>3</td>\n",
       "    </tr>\n",
       "    <tr>\n",
       "      <th>4</th>\n",
       "      <td>The Urbz: Sims in the City</td>\n",
       "      <td>True</td>\n",
       "      <td>1</td>\n",
       "      <td>True</td>\n",
       "      <td>True</td>\n",
       "      <td>Simulation</td>\n",
       "      <td>True</td>\n",
       "      <td>EA</td>\n",
       "      <td>True</td>\n",
       "      <td>67</td>\n",
       "      <td>...</td>\n",
       "      <td>25.200000</td>\n",
       "      <td>20.00</td>\n",
       "      <td>3</td>\n",
       "      <td>16.450000</td>\n",
       "      <td>15.500000</td>\n",
       "      <td>15.750000</td>\n",
       "      <td>15.5</td>\n",
       "      <td>2</td>\n",
       "      <td>15.250000</td>\n",
       "      <td>3</td>\n",
       "    </tr>\n",
       "  </tbody>\n",
       "</table>\n",
       "<p>5 rows × 37 columns</p>\n",
       "</div>"
      ],
      "text/plain": [
       "                        Title  Features.Handheld  Features.Max Players  \\\n",
       "0           Super Mario 64 DS               True                     1   \n",
       "1      Lumines: Puzzle Fusion               True                     1   \n",
       "2    Hot Shots Golf: Open Tee               True                     1   \n",
       "3                Spider-Man 2               True                     1   \n",
       "4  The Urbz: Sims in the City               True                     1   \n",
       "\n",
       "   Features.Multiplatform  Features.Online Metadata.Genres  Metadata.Licensed  \\\n",
       "0                    True             True          Action               True   \n",
       "1                    True             True        Strategy               True   \n",
       "2                    True             True          Sports               True   \n",
       "3                    True             True          Action               True   \n",
       "4                    True             True      Simulation               True   \n",
       "\n",
       "  Metadata.Publishers  Metadata.Sequel  Metrics.Review Score  ...  \\\n",
       "0            Nintendo             True                    85  ...   \n",
       "1             Ubisoft             True                    89  ...   \n",
       "2                Sony             True                    81  ...   \n",
       "3          Activision             True                    61  ...   \n",
       "4                  EA             True                    67  ...   \n",
       "\n",
       "   Length.Main + Extras.Leisure  Length.Main + Extras.Median  \\\n",
       "0                     29.966667                        25.00   \n",
       "1                      9.866667                         9.75   \n",
       "2                      0.000000                         0.00   \n",
       "3                     17.316667                        12.50   \n",
       "4                     25.200000                        20.00   \n",
       "\n",
       "  Length.Main + Extras.Polled Length.Main + Extras.Rushed  \\\n",
       "0                          16                   18.333333   \n",
       "1                           2                    9.616667   \n",
       "2                           0                    0.000000   \n",
       "3                          12                   10.483333   \n",
       "4                           3                   16.450000   \n",
       "\n",
       "   Length.Main Story.Average  Length.Main Story.Leisure  \\\n",
       "0                  14.333333                  18.316667   \n",
       "1                  10.333333                  11.083333   \n",
       "2                   0.000000                   0.000000   \n",
       "3                   8.350000                  11.083333   \n",
       "4                  15.500000                  15.750000   \n",
       "\n",
       "   Length.Main Story.Median  Length.Main Story.Polled  \\\n",
       "0                      14.5                        21   \n",
       "1                      10.0                         3   \n",
       "2                       0.0                         0   \n",
       "3                       8.0                        23   \n",
       "4                      15.5                         2   \n",
       "\n",
       "   Length.Main Story.Rushed  Metrics.Review Group  \n",
       "0                  9.700000                     4  \n",
       "1                  9.583333                     4  \n",
       "2                  0.000000                     4  \n",
       "3                  5.333333                     3  \n",
       "4                 15.250000                     3  \n",
       "\n",
       "[5 rows x 37 columns]"
      ]
     },
     "execution_count": 398,
     "metadata": {},
     "output_type": "execute_result"
    }
   ],
   "source": [
    "df.head()"
   ]
  },
  {
   "cell_type": "markdown",
   "metadata": {},
   "source": [
    "## Data Analysis"
   ]
  },
  {
   "cell_type": "code",
   "execution_count": 405,
   "metadata": {},
   "outputs": [
    {
     "data": {
      "text/plain": [
       "<matplotlib.axes._subplots.AxesSubplot at 0x1c1c75f2fd0>"
      ]
     },
     "execution_count": 405,
     "metadata": {},
     "output_type": "execute_result"
    },
    {
     "data": {
      "image/png": "[encoded data removed]",
      "text/plain": [
       "<Figure size 1152x864 with 2 Axes>"
      ]
     },
     "metadata": {
      "needs_background": "light"
     },
     "output_type": "display_data"
    }
   ],
   "source": [
    "df_corr_1 = df.drop(['Features.Handheld', 'Features.Max Players', 'Features.Multiplatform', 'Features.Online', 'Metadata.Licensed',  'Metadata.Sequel', 'Release.Re-release'], 1)\n",
    "df_corr = df[['Metrics.Review Score','Metrics.Sales', 'Metrics.Used Price', 'Release.Year', 'Features.Max Players',]]\n",
    "corr_matrix = df_corr.corr()\n",
    "plt.subplots(figsize = (16, 12))\n",
    "sns.heatmap(corr_matrix, annot=True)"
   ]
  },
  {
   "cell_type": "markdown",
   "metadata": {},
   "source": [
    "## Multiple Linear regression"
   ]
  },
  {
   "cell_type": "code",
   "execution_count": 372,
   "metadata": {},
   "outputs": [],
   "source": [
    "def makeListForLabel(label_name):\n",
    "    myList = df[label_name]\n",
    "    tempArray = []\n",
    "    for word in myList:\n",
    "        if word not in tempArray:\n",
    "            tempArray.append(word)\n",
    "    return tempArray   "
   ]
  },
  {
   "cell_type": "code",
   "execution_count": 373,
   "metadata": {},
   "outputs": [],
   "source": [
    "\n",
    "df_encoded = pd.DataFrame()\n",
    "\n",
    "labels = {\n",
    "    'Metadata.Genres': makeListForLabel('Metadata.Genres'),\n",
    "    'Metadata.Publishers': makeListForLabel('Metadata.Publishers'),\n",
    "    'Features.Handheld': makeListForLabel('Features.Handheld'),\n",
    "    'Features.Multiplatform': makeListForLabel('Features.Multiplatform'),\n",
    "    'Features.Online': makeListForLabel('Features.Online'),\n",
    "    'Metadata.Licensed': makeListForLabel('Metadata.Licensed'),\n",
    "    'Metadata.Sequel': makeListForLabel('Metadata.Sequel'),\n",
    "    'Release.Console': makeListForLabel('Release.Console'),\n",
    "    'Release.Rating': makeListForLabel('Release.Rating'),\n",
    "    \n",
    "}\n",
    "label_encoders = {}\n",
    "for column in df:\n",
    "    if column in labels:\n",
    "        label_encoders[column] = preprocessing.LabelEncoder()\n",
    "        label_encoders[column].fit(labels[column])\n",
    "        df_encoded[column] = label_encoders[column].transform(df[column])\n",
    "    else:\n",
    "        df_encoded[column] = df[column]      "
   ]
  },
  {
   "cell_type": "code",
   "execution_count": 374,
   "metadata": {},
   "outputs": [],
   "source": [
    "Multi_features = np.array(df_encoded[[\n",
    "    'Metrics.Review Score', \n",
    "    'Release.Year', \n",
    "    'Features.Max Players',\n",
    "    'Metadata.Genres'  \n",
    "     ]    \n",
    "])\n",
    "Multi_label = np.array(df_encoded['Metrics.Sales'])\n",
    "Multi_regressor = linear_model.LinearRegression()"
   ]
  },
  {
   "cell_type": "code",
   "execution_count": 375,
   "metadata": {},
   "outputs": [],
   "source": [
    "Multi_features_train, Multi_features_test, Multi_label_train, Multi_label_test = model_selection.train_test_split(Multi_features,Multi_label, test_size = 0.1)"
   ]
  },
  {
   "cell_type": "code",
   "execution_count": 376,
   "metadata": {},
   "outputs": [
    {
     "data": {
      "text/plain": [
       "LinearRegression()"
      ]
     },
     "execution_count": 376,
     "metadata": {},
     "output_type": "execute_result"
    }
   ],
   "source": [
    "Multi_regressor.fit(Multi_features_train,Multi_label_train)"
   ]
  },
  {
   "cell_type": "code",
   "execution_count": 377,
   "metadata": {
    "scrolled": true
   },
   "outputs": [],
   "source": [
    "Multi_label_prediction = Multi_regressor.predict(Multi_features_test)"
   ]
  },
  {
   "cell_type": "markdown",
   "metadata": {},
   "source": [
    "### Prediction"
   ]
  },
  {
   "cell_type": "code",
   "execution_count": 378,
   "metadata": {},
   "outputs": [
    {
     "data": {
      "text/plain": [
       "array([539.45155205])"
      ]
     },
     "execution_count": 378,
     "metadata": {},
     "output_type": "execute_result"
    }
   ],
   "source": [
    "newData = np.array([85, 2020, 1, 1]).reshape(1,-1)\n",
    "Multi_regressor.predict(newData)"
   ]
  },
  {
   "cell_type": "markdown",
   "metadata": {},
   "source": [
    "## Validation of Multiple Variable regression"
   ]
  },
  {
   "cell_type": "code",
   "execution_count": 379,
   "metadata": {},
   "outputs": [
    {
     "name": "stdout",
     "output_type": "stream",
     "text": [
      "Mean squared error: 594908.84\n",
      "R-squared (training)  0.125\n",
      "R-squared (testing)  0.013\n",
      "Explained variance score  0.02\n",
      "R2 score: 0.01\n"
     ]
    }
   ],
   "source": [
    "# The mean squared error\n",
    "print(\"Mean squared error: %.2f\" % sm.mean_squared_error(Multi_label_test, Multi_label_prediction))\n",
    "\n",
    "# Explained variance score: 1 is perfect prediction\n",
    "print('R-squared (training) ', round(Multi_regressor.score(Multi_features_train, Multi_label_train), 3))\n",
    "print('R-squared (testing) ', round(Multi_regressor.score(Multi_features_test, Multi_label_test), 3))\n",
    "print('Explained variance score ', round(sm.explained_variance_score(Multi_label_test, Multi_label_prediction), 2))\n",
    "print('R2 score: %.2f' % sm.r2_score(Multi_label_test, Multi_label_prediction))"
   ]
  },
  {
   "cell_type": "markdown",
   "metadata": {},
   "source": [
    "## Prediction with decision tree"
   ]
  },
  {
   "cell_type": "code",
   "execution_count": 380,
   "metadata": {},
   "outputs": [],
   "source": [
    "DT_features = np.array(df_encoded[[\n",
    "    'Release.Year', \n",
    "    'Features.Max Players',\n",
    "    'Metadata.Genres',\n",
    "    ]    \n",
    "])\n",
    "DT_label = np.array(df_encoded['Metrics.Review Group'])\n",
    "DT_label=DT_label.astype('int')"
   ]
  },
  {
   "cell_type": "code",
   "execution_count": 381,
   "metadata": {},
   "outputs": [
    {
     "data": {
      "text/plain": [
       "array([[2007,    4,    0],\n",
       "       [2007,    1,    7],\n",
       "       [2007,    1,    0]], dtype=int64)"
      ]
     },
     "execution_count": 381,
     "metadata": {},
     "output_type": "execute_result"
    }
   ],
   "source": [
    "\n",
    "\n",
    "class0 = np.array(DT_features[(DT_label== 0)])\n",
    "class1 = np.array(DT_features[(DT_label == 1)])\n",
    "class2 = np.array(DT_features[(DT_label == 2)])\n",
    "class3 = np.array(DT_features[(DT_label == 3)])\n",
    "class1"
   ]
  },
  {
   "cell_type": "code",
   "execution_count": 393,
   "metadata": {},
   "outputs": [],
   "source": [
    "DT_features_train, DT_features_test, DT_label_train, DT_label_test = model_selection.train_test_split(DT_features, DT_label, test_size=0.1, random_state=5)"
   ]
  },
  {
   "cell_type": "code",
   "execution_count": 384,
   "metadata": {},
   "outputs": [
    {
     "data": {
      "text/plain": [
       "RandomForestClassifier(max_depth=6)"
      ]
     },
     "execution_count": 384,
     "metadata": {},
     "output_type": "execute_result"
    }
   ],
   "source": [
    "classifier = RandomForestClassifier(n_estimators = 100, max_depth = 6)\n",
    "classifier.fit(DT_features_train, DT_label_train)"
   ]
  },
  {
   "cell_type": "markdown",
   "metadata": {},
   "source": [
    "## Validate our Decision tree model"
   ]
  },
  {
   "cell_type": "code",
   "execution_count": 385,
   "metadata": {},
   "outputs": [
    {
     "data": {
      "text/plain": [
       "array([3, 3, 3, 3, 3, 3, 3, 3, 3, 3, 3, 3, 3, 3, 3, 3, 3, 3, 3, 3, 3, 3,\n",
       "       4, 3, 3, 3, 3, 3, 3, 4, 3, 3, 3, 3, 4, 3, 3, 4, 3, 3, 3, 3, 3, 3,\n",
       "       3, 3, 3, 3, 3, 3, 3, 3, 3, 3, 3, 3, 3, 3, 3, 3, 3, 3, 3, 3, 3, 3,\n",
       "       3, 3, 3, 4, 3, 3, 3, 3, 3, 3, 3, 3, 3, 3, 3, 3, 3, 4, 3])"
      ]
     },
     "execution_count": 385,
     "metadata": {},
     "output_type": "execute_result"
    }
   ],
   "source": [
    "review_score_prediction = classifier.predict(DT_features_test)\n",
    "review_score_prediction"
   ]
  },
  {
   "cell_type": "code",
   "execution_count": 386,
   "metadata": {},
   "outputs": [
    {
     "data": {
      "text/plain": [
       "array([2015,    5,    8])"
      ]
     },
     "execution_count": 386,
     "metadata": {},
     "output_type": "execute_result"
    }
   ],
   "source": [
    "DT_NewData = np.array([2015, 5, 8])\n",
    "DT_NewData"
   ]
  },
  {
   "cell_type": "code",
   "execution_count": 394,
   "metadata": {},
   "outputs": [
    {
     "data": {
      "text/plain": [
       "array([3])"
      ]
     },
     "execution_count": 394,
     "metadata": {},
     "output_type": "execute_result"
    }
   ],
   "source": [
    "a = classifier.predict([DT_NewData])\n",
    "a\n",
    "\n",
    "# 1 = score below 25\n",
    "# 2 = score between 26 and 50\n",
    "# 3 = score between 50 and 75\n",
    "# 4 = score between 76 and 100"
   ]
  },
  {
   "cell_type": "code",
   "execution_count": 395,
   "metadata": {},
   "outputs": [
    {
     "name": "stdout",
     "output_type": "stream",
     "text": [
      "              precision    recall  f1-score   support\n",
      "\n",
      "      Class0       0.00      0.00      0.00         2\n",
      "      Class1       1.00      0.01      0.02        79\n",
      "      Class2       0.61      0.94      0.74       442\n",
      "      Class3       0.62      0.19      0.30       237\n",
      "\n",
      "    accuracy                           0.61       760\n",
      "   macro avg       0.56      0.29      0.26       760\n",
      "weighted avg       0.65      0.61      0.52       760\n",
      "\n"
     ]
    },
    {
     "name": "stderr",
     "output_type": "stream",
     "text": [
      "C:\\ProgramData\\Anaconda3\\lib\\site-packages\\sklearn\\metrics\\_classification.py:1221: UndefinedMetricWarning: Precision and F-score are ill-defined and being set to 0.0 in labels with no predicted samples. Use `zero_division` parameter to control this behavior.\n",
      "  _warn_prf(average, modifier, msg_start, len(result))\n"
     ]
    }
   ],
   "source": [
    "class_names = ['Class0', 'Class1', 'Class2','Class3']\n",
    "print(classification_report(DT_label_train, classifier.predict(DT_features_train), target_names=class_names))"
   ]
  },
  {
   "cell_type": "code",
   "execution_count": 396,
   "metadata": {},
   "outputs": [
    {
     "name": "stdout",
     "output_type": "stream",
     "text": [
      "              precision    recall  f1-score   support\n",
      "\n",
      "      Class0       0.00      0.00      0.00         1\n",
      "      Class1       0.00      0.00      0.00         5\n",
      "      Class2       0.61      0.98      0.75        49\n",
      "      Class3       0.83      0.17      0.28        30\n",
      "\n",
      "    accuracy                           0.62        85\n",
      "   macro avg       0.36      0.29      0.26        85\n",
      "weighted avg       0.64      0.62      0.53        85\n",
      "\n"
     ]
    },
    {
     "name": "stderr",
     "output_type": "stream",
     "text": [
      "C:\\ProgramData\\Anaconda3\\lib\\site-packages\\sklearn\\metrics\\_classification.py:1221: UndefinedMetricWarning: Precision and F-score are ill-defined and being set to 0.0 in labels with no predicted samples. Use `zero_division` parameter to control this behavior.\n",
      "  _warn_prf(average, modifier, msg_start, len(result))\n"
     ]
    }
   ],
   "source": [
    "print(classification_report(DT_label_test, classifier.predict(DT_features_test), target_names=class_names))"
   ]
  },
  {
   "cell_type": "code",
   "execution_count": 397,
   "metadata": {},
   "outputs": [
    {
     "data": {
      "image/png": "[encoded data removed]",
      "text/plain": [
       "<Figure size 432x288 with 2 Axes>"
      ]
     },
     "metadata": {
      "needs_background": "light"
     },
     "output_type": "display_data"
    }
   ],
   "source": [
    "confusion_mat = confusion_matrix(DT_label_test,classifier.predict(DT_features_test))\n",
    "confusion = pd.crosstab(DT_label_test,classifier.predict(DT_features_test))\n",
    "\n",
    "\n",
    "# Visualize confusion matrix\n",
    "plt.imshow(confusion_mat, interpolation='nearest')\n",
    "plt.title('Confusion matrix')\n",
    "plt.colorbar()\n",
    "ticks = np.arange(5)\n",
    "plt.xticks(ticks, ticks)\n",
    "plt.yticks(ticks, ticks)\n",
    "plt.ylabel('True labels')\n",
    "plt.xlabel('Predicted labels')\n",
    "plt.show()"
   ]
  },
  {
   "cell_type": "code",
   "execution_count": null,
   "metadata": {},
   "outputs": [],
   "source": []
  }
 ],
 "metadata": {
  "kernelspec": {
   "display_name": "Python 3",
   "language": "python",
   "name": "python3"
  },
  "language_info": {
   "codemirror_mode": {
    "name": "ipython",
    "version": 3
   },
   "file_extension": ".py",
   "mimetype": "text/x-python",
   "name": "python",
   "nbconvert_exporter": "python",
   "pygments_lexer": "ipython3",
   "version": "3.8.3"
  }
 },
 "nbformat": 4,
 "nbformat_minor": 4
}
